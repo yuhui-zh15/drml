{
 "cells": [
  {
   "cell_type": "code",
   "execution_count": 3,
   "metadata": {},
   "outputs": [],
   "source": [
    "import sys\n",
    "\n",
    "sys.path.append(\"..\")\n",
    "from rectify import rectify_models\n",
    "from diagnose import prepare_waterbird, prepare_fairface, prepare_dsprites"
   ]
  },
  {
   "cell_type": "markdown",
   "metadata": {},
   "source": [
    "# Waterbird"
   ]
  },
  {
   "cell_type": "code",
   "execution_count": 4,
   "metadata": {},
   "outputs": [
    {
     "name": "stderr",
     "output_type": "stream",
     "text": [
      "Epoch -1, Eval True: 100%|████████████████████████████████████████████████████████████████████████████████████████████████████████████████████████| 38/38 [00:02<00:00, 17.99it/s]\n"
     ]
    },
    {
     "name": "stdout",
     "output_type": "stream",
     "text": [
      "Epoch 0\n",
      "[((('waterbird', 1), ('waterplace', 0)), 0.5037593984962406),\n",
      " ((('waterbird', 1), ('waterplace', 1)), 0.8947368421052632),\n",
      " ((('waterbird', 0), ('waterplace', 1)), 0.9141630901287554),\n",
      " ((('waterbird', 0), ('waterplace', 0)), 0.9957173447537473)]\n",
      "0.8270941688710016\n",
      "\n"
     ]
    },
    {
     "name": "stderr",
     "output_type": "stream",
     "text": [
      "Epoch -1, Eval True: 100%|████████████████████████████████████████████████████████████████████████████████████████████████████████████████████████| 38/38 [00:02<00:00, 18.11it/s]\n"
     ]
    },
    {
     "name": "stdout",
     "output_type": "stream",
     "text": [
      "Epoch 1\n",
      "[((('waterbird', 1), ('waterplace', 0)), 0.556390977443609),\n",
      " ((('waterbird', 1), ('waterplace', 1)), 0.8270676691729323),\n",
      " ((('waterbird', 0), ('waterplace', 1)), 0.9699570815450643),\n",
      " ((('waterbird', 0), ('waterplace', 0)), 0.9892933618843683)]\n",
      "0.8356772725114935\n",
      "\n"
     ]
    },
    {
     "name": "stderr",
     "output_type": "stream",
     "text": [
      "Epoch -1, Eval True: 100%|████████████████████████████████████████████████████████████████████████████████████████████████████████████████████████| 38/38 [00:02<00:00, 18.27it/s]\n"
     ]
    },
    {
     "name": "stdout",
     "output_type": "stream",
     "text": [
      "Epoch 2\n",
      "[((('waterbird', 1), ('waterplace', 0)), 0.556390977443609),\n",
      " ((('waterbird', 1), ('waterplace', 1)), 0.6917293233082706),\n",
      " ((('waterbird', 0), ('waterplace', 1)), 0.9828326180257511),\n",
      " ((('waterbird', 0), ('waterplace', 0)), 0.987152034261242)]\n",
      "0.8045262382597183\n",
      "\n"
     ]
    },
    {
     "name": "stderr",
     "output_type": "stream",
     "text": [
      "Epoch -1, Eval True: 100%|████████████████████████████████████████████████████████████████████████████████████████████████████████████████████████| 38/38 [00:02<00:00, 18.20it/s]\n"
     ]
    },
    {
     "name": "stdout",
     "output_type": "stream",
     "text": [
      "Epoch 3\n",
      "[((('waterbird', 1), ('waterplace', 0)), 0.5639097744360902),\n",
      " ((('waterbird', 1), ('waterplace', 1)), 0.5864661654135338),\n",
      " ((('waterbird', 0), ('waterplace', 0)), 0.9828693790149893),\n",
      " ((('waterbird', 0), ('waterplace', 1)), 0.9849785407725322)]\n",
      "0.7795559649092864\n",
      "\n"
     ]
    },
    {
     "name": "stderr",
     "output_type": "stream",
     "text": [
      "Epoch -1, Eval True: 100%|████████████████████████████████████████████████████████████████████████████████████████████████████████████████████████| 38/38 [00:02<00:00, 16.88it/s]\n"
     ]
    },
    {
     "name": "stdout",
     "output_type": "stream",
     "text": [
      "Epoch 4\n",
      "[((('waterbird', 1), ('waterplace', 1)), 0.5037593984962406),\n",
      " ((('waterbird', 1), ('waterplace', 0)), 0.5789473684210527),\n",
      " ((('waterbird', 0), ('waterplace', 0)), 0.9785867237687366),\n",
      " ((('waterbird', 0), ('waterplace', 1)), 0.9892703862660944)]\n",
      "0.762640969238031\n",
      "\n"
     ]
    },
    {
     "name": "stderr",
     "output_type": "stream",
     "text": [
      "Epoch -1, Eval True: 100%|████████████████████████████████████████████████████████████████████████████████████████████████████████████████████████| 38/38 [00:02<00:00, 16.08it/s]\n"
     ]
    },
    {
     "name": "stdout",
     "output_type": "stream",
     "text": [
      "Epoch 5\n",
      "[((('waterbird', 1), ('waterplace', 1)), 0.42105263157894735),\n",
      " ((('waterbird', 1), ('waterplace', 0)), 0.5789473684210527),\n",
      " ((('waterbird', 0), ('waterplace', 0)), 0.9528907922912205),\n",
      " ((('waterbird', 0), ('waterplace', 1)), 0.9914163090128756)]\n",
      "0.736076775326024\n",
      "\n"
     ]
    },
    {
     "name": "stderr",
     "output_type": "stream",
     "text": [
      "Epoch -1, Eval True: 100%|████████████████████████████████████████████████████████████████████████████████████████████████████████████████████████| 38/38 [00:02<00:00, 17.99it/s]\n"
     ]
    },
    {
     "name": "stdout",
     "output_type": "stream",
     "text": [
      "Epoch 6\n",
      "[((('waterbird', 1), ('waterplace', 1)), 0.3383458646616541),\n",
      " ((('waterbird', 1), ('waterplace', 0)), 0.5789473684210527),\n",
      " ((('waterbird', 0), ('waterplace', 0)), 0.9507494646680942),\n",
      " ((('waterbird', 0), ('waterplace', 1)), 0.9935622317596566)]\n",
      "0.7154012323776144\n",
      "\n"
     ]
    },
    {
     "name": "stderr",
     "output_type": "stream",
     "text": [
      "Epoch -1, Eval True: 100%|████████████████████████████████████████████████████████████████████████████████████████████████████████████████████████| 38/38 [00:02<00:00, 18.31it/s]\n"
     ]
    },
    {
     "name": "stdout",
     "output_type": "stream",
     "text": [
      "Epoch 7\n",
      "[((('waterbird', 1), ('waterplace', 1)), 0.3383458646616541),\n",
      " ((('waterbird', 1), ('waterplace', 0)), 0.5789473684210527),\n",
      " ((('waterbird', 0), ('waterplace', 0)), 0.9507494646680942),\n",
      " ((('waterbird', 0), ('waterplace', 1)), 0.9935622317596566)]\n",
      "0.7154012323776144\n",
      "\n"
     ]
    },
    {
     "name": "stderr",
     "output_type": "stream",
     "text": [
      "Epoch -1, Eval True: 100%|████████████████████████████████████████████████████████████████████████████████████████████████████████████████████████| 38/38 [00:02<00:00, 18.08it/s]\n"
     ]
    },
    {
     "name": "stdout",
     "output_type": "stream",
     "text": [
      "Epoch 8\n",
      "[((('waterbird', 1), ('waterplace', 1)), 0.3157894736842105),\n",
      " ((('waterbird', 1), ('waterplace', 0)), 0.5939849624060151),\n",
      " ((('waterbird', 0), ('waterplace', 0)), 0.9400428265524625),\n",
      " ((('waterbird', 0), ('waterplace', 1)), 0.9935622317596566)]\n",
      "0.7108448736005862\n",
      "\n"
     ]
    },
    {
     "name": "stderr",
     "output_type": "stream",
     "text": [
      "Epoch -1, Eval True: 100%|████████████████████████████████████████████████████████████████████████████████████████████████████████████████████████| 38/38 [00:02<00:00, 17.42it/s]"
     ]
    },
    {
     "name": "stdout",
     "output_type": "stream",
     "text": [
      "Epoch 9\n",
      "[((('waterbird', 1), ('waterplace', 1)), 0.2857142857142857),\n",
      " ((('waterbird', 1), ('waterplace', 0)), 0.6090225563909775),\n",
      " ((('waterbird', 0), ('waterplace', 0)), 0.9229122055674518),\n",
      " ((('waterbird', 0), ('waterplace', 1)), 0.9935622317596566)]\n",
      "0.7028028198580929\n",
      "\n"
     ]
    },
    {
     "name": "stderr",
     "output_type": "stream",
     "text": [
      "\n"
     ]
    }
   ],
   "source": [
    "rectify_models(\n",
    "    clip_model_name=\"ViT-B/32\",\n",
    "    linear_model_path=\"../pytorch_cache/iclrsubmission/models/waterbird_linear_model.pt\",\n",
    "    data_path=\"../../data/Waterbird/processed_attribute_dataset/attributes.jsonl\",\n",
    "    filter_fn=lambda i, x: x[\"attributes\"][\"split\"] == \"val\",\n",
    "    label_fn=lambda x: x[\"attributes\"][\"waterbird\"],\n",
    "    fields=[\"waterbird\", \"waterplace\"],\n",
    "    prepare_fn=prepare_waterbird,\n",
    ")"
   ]
  },
  {
   "cell_type": "markdown",
   "metadata": {},
   "source": [
    "# FairFace"
   ]
  },
  {
   "cell_type": "code",
   "execution_count": 5,
   "metadata": {},
   "outputs": [
    {
     "name": "stderr",
     "output_type": "stream",
     "text": [
      "Epoch 0, Eval True: 100%|█████████████████████████████████████████████████████████████████████████████████████████████████████████████████████████████| 343/343 [00:14<00:00, 23.87it/s]\n"
     ]
    },
    {
     "name": "stdout",
     "output_type": "stream",
     "text": [
      "[((('race', 'Black'),), 0.9042416452442159),\n",
      " ((('race', 'Southeast Asian'),), 0.9307420494699646),\n",
      " ((('race', 'East Asian'),), 0.9438709677419355),\n",
      " ((('race', 'Indian'),), 0.9452506596306068),\n",
      " ((('race', 'Latino_Hispanic'),), 0.9550215650030807),\n",
      " ((('race', 'White'),), 0.9601918465227818),\n",
      " ((('race', 'Middle Eastern'),), 0.9685690653432589)]\n",
      "0.9439839712794064\n",
      "\n"
     ]
    },
    {
     "name": "stderr",
     "output_type": "stream",
     "text": [
      "Epoch 1, Eval True: 100%|█████████████████████████████████████████████████████████████████████████████████████████████████████████████████████████████| 343/343 [00:14<00:00, 23.46it/s]\n"
     ]
    },
    {
     "name": "stdout",
     "output_type": "stream",
     "text": [
      "[((('race', 'Black'),), 0.9061696658097687),\n",
      " ((('race', 'Southeast Asian'),), 0.9321554770318021),\n",
      " ((('race', 'Indian'),), 0.9432717678100264),\n",
      " ((('race', 'East Asian'),), 0.944516129032258),\n",
      " ((('race', 'Latino_Hispanic'),), 0.9531731361675909),\n",
      " ((('race', 'White'),), 0.9601918465227818),\n",
      " ((('race', 'Middle Eastern'),), 0.967741935483871)]\n",
      "0.9438885654082999\n",
      "\n"
     ]
    },
    {
     "name": "stderr",
     "output_type": "stream",
     "text": [
      "Epoch 2, Eval True: 100%|█████████████████████████████████████████████████████████████████████████████████████████████████████████████████████████████| 343/343 [00:14<00:00, 23.75it/s]\n"
     ]
    },
    {
     "name": "stdout",
     "output_type": "stream",
     "text": [
      "[((('race', 'Black'),), 0.9074550128534704),\n",
      " ((('race', 'Southeast Asian'),), 0.9314487632508834),\n",
      " ((('race', 'Indian'),), 0.9439313984168866),\n",
      " ((('race', 'East Asian'),), 0.944516129032258),\n",
      " ((('race', 'Latino_Hispanic'),), 0.9525569932224276),\n",
      " ((('race', 'White'),), 0.9611510791366906),\n",
      " ((('race', 'Middle Eastern'),), 0.967741935483871)]\n",
      "0.944114473056641\n",
      "\n"
     ]
    },
    {
     "name": "stderr",
     "output_type": "stream",
     "text": [
      "Epoch 3, Eval True: 100%|█████████████████████████████████████████████████████████████████████████████████████████████████████████████████████████████| 343/343 [00:14<00:00, 23.75it/s]\n"
     ]
    },
    {
     "name": "stdout",
     "output_type": "stream",
     "text": [
      "[((('race', 'Black'),), 0.9074550128534704),\n",
      " ((('race', 'Southeast Asian'),), 0.9321554770318021),\n",
      " ((('race', 'Indian'),), 0.9439313984168866),\n",
      " ((('race', 'East Asian'),), 0.944516129032258),\n",
      " ((('race', 'Latino_Hispanic'),), 0.9525569932224276),\n",
      " ((('race', 'White'),), 0.9616306954436451),\n",
      " ((('race', 'Middle Eastern'),), 0.9669148056244831)]\n",
      "0.9441657873749961\n",
      "\n"
     ]
    },
    {
     "name": "stderr",
     "output_type": "stream",
     "text": [
      "Epoch 4, Eval True: 100%|█████████████████████████████████████████████████████████████████████████████████████████████████████████████████████████████| 343/343 [00:14<00:00, 23.72it/s]\n"
     ]
    },
    {
     "name": "stdout",
     "output_type": "stream",
     "text": [
      "[((('race', 'Black'),), 0.9074550128534704),\n",
      " ((('race', 'Southeast Asian'),), 0.9328621908127208),\n",
      " ((('race', 'Indian'),), 0.9439313984168866),\n",
      " ((('race', 'East Asian'),), 0.9451612903225807),\n",
      " ((('race', 'Latino_Hispanic'),), 0.9513247073321011),\n",
      " ((('race', 'White'),), 0.962589928057554),\n",
      " ((('race', 'Middle Eastern'),), 0.9669148056244831)]\n",
      "0.9443199047742566\n",
      "\n"
     ]
    },
    {
     "name": "stderr",
     "output_type": "stream",
     "text": [
      "Epoch 5, Eval True: 100%|█████████████████████████████████████████████████████████████████████████████████████████████████████████████████████████████| 343/343 [00:14<00:00, 23.14it/s]\n"
     ]
    },
    {
     "name": "stdout",
     "output_type": "stream",
     "text": [
      "[((('race', 'Black'),), 0.9074550128534704),\n",
      " ((('race', 'Southeast Asian'),), 0.9321554770318021),\n",
      " ((('race', 'East Asian'),), 0.9438709677419355),\n",
      " ((('race', 'Indian'),), 0.9445910290237467),\n",
      " ((('race', 'Latino_Hispanic'),), 0.9513247073321011),\n",
      " ((('race', 'White'),), 0.962589928057554),\n",
      " ((('race', 'Middle Eastern'),), 0.967741935483871)]\n",
      "0.944247008217783\n",
      "\n"
     ]
    },
    {
     "name": "stderr",
     "output_type": "stream",
     "text": [
      "Epoch 6, Eval True: 100%|█████████████████████████████████████████████████████████████████████████████████████████████████████████████████████████████| 343/343 [00:14<00:00, 23.72it/s]\n"
     ]
    },
    {
     "name": "stdout",
     "output_type": "stream",
     "text": [
      "[((('race', 'Black'),), 0.9068123393316195),\n",
      " ((('race', 'Southeast Asian'),), 0.9314487632508834),\n",
      " ((('race', 'East Asian'),), 0.9438709677419355),\n",
      " ((('race', 'Indian'),), 0.9452506596306068),\n",
      " ((('race', 'Latino_Hispanic'),), 0.9513247073321011),\n",
      " ((('race', 'White'),), 0.9630695443645084),\n",
      " ((('race', 'Middle Eastern'),), 0.9669148056244831)]\n",
      "0.9440988267537339\n",
      "\n"
     ]
    },
    {
     "name": "stderr",
     "output_type": "stream",
     "text": [
      "Epoch 7, Eval True: 100%|█████████████████████████████████████████████████████████████████████████████████████████████████████████████████████████████| 343/343 [00:14<00:00, 23.62it/s]\n"
     ]
    },
    {
     "name": "stdout",
     "output_type": "stream",
     "text": [
      "[((('race', 'Black'),), 0.9061696658097687),\n",
      " ((('race', 'Southeast Asian'),), 0.9314487632508834),\n",
      " ((('race', 'East Asian'),), 0.9438709677419355),\n",
      " ((('race', 'Indian'),), 0.945910290237467),\n",
      " ((('race', 'Latino_Hispanic'),), 0.9507085643869377),\n",
      " ((('race', 'White'),), 0.9630695443645084),\n",
      " ((('race', 'Middle Eastern'),), 0.9669148056244831)]\n",
      "0.9440132287737119\n",
      "\n"
     ]
    },
    {
     "name": "stderr",
     "output_type": "stream",
     "text": [
      "Epoch 8, Eval True: 100%|█████████████████████████████████████████████████████████████████████████████████████████████████████████████████████████████| 343/343 [00:14<00:00, 23.74it/s]\n"
     ]
    },
    {
     "name": "stdout",
     "output_type": "stream",
     "text": [
      "[((('race', 'Black'),), 0.9055269922879178),\n",
      " ((('race', 'Southeast Asian'),), 0.9314487632508834),\n",
      " ((('race', 'East Asian'),), 0.9438709677419355),\n",
      " ((('race', 'Indian'),), 0.9445910290237467),\n",
      " ((('race', 'Latino_Hispanic'),), 0.9500924214417745),\n",
      " ((('race', 'White'),), 0.9635491606714628),\n",
      " ((('race', 'Middle Eastern'),), 0.9669148056244831)]\n",
      "0.9437134485774575\n",
      "\n"
     ]
    },
    {
     "name": "stderr",
     "output_type": "stream",
     "text": [
      "Epoch 9, Eval True: 100%|█████████████████████████████████████████████████████████████████████████████████████████████████████████████████████████████| 343/343 [00:14<00:00, 23.00it/s]\n"
     ]
    },
    {
     "name": "stdout",
     "output_type": "stream",
     "text": [
      "[((('race', 'Black'),), 0.9048843187660668),\n",
      " ((('race', 'Southeast Asian'),), 0.9314487632508834),\n",
      " ((('race', 'East Asian'),), 0.9432258064516129),\n",
      " ((('race', 'Indian'),), 0.945910290237467),\n",
      " ((('race', 'Latino_Hispanic'),), 0.9500924214417745),\n",
      " ((('race', 'White'),), 0.9635491606714628),\n",
      " ((('race', 'Middle Eastern'),), 0.9669148056244831)]\n",
      "0.9437179380633928\n",
      "\n"
     ]
    }
   ],
   "source": [
    "rectify_models(\n",
    "    clip_model_name=\"ViT-B/32\",\n",
    "    linear_model_path=\"../pytorch_cache/iclrsubmission/models/fairface_linear_model.pt\",\n",
    "    data_path=\"../../data/FairFace/processed_attribute_dataset/attributes.jsonl\",\n",
    "    filter_fn=lambda i, x: x[\"attributes\"][\"split\"] == \"val\",\n",
    "    label_fn=lambda x: int(x[\"attributes\"][\"gender\"] == \"Female\"),\n",
    "    prepare_fn=prepare_fairface,\n",
    "    fields=[\"race\"],\n",
    ")"
   ]
  }
 ],
 "metadata": {
  "kernelspec": {
   "display_name": "Python 3.8.12 ('dalle')",
   "language": "python",
   "name": "python3"
  },
  "language_info": {
   "codemirror_mode": {
    "name": "ipython",
    "version": 3
   },
   "file_extension": ".py",
   "mimetype": "text/x-python",
   "name": "python",
   "nbconvert_exporter": "python",
   "pygments_lexer": "ipython3",
   "version": "3.8.12"
  },
  "orig_nbformat": 4,
  "vscode": {
   "interpreter": {
    "hash": "bf49421d02fb18daac2fe024769d7389ca36bccb970e26253e571efb021ca22f"
   }
  }
 },
 "nbformat": 4,
 "nbformat_minor": 2
}
