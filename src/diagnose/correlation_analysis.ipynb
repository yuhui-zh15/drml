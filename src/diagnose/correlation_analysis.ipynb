{
 "cells": [
  {
   "cell_type": "code",
   "execution_count": 2,
   "metadata": {},
   "outputs": [],
   "source": [
    "import json\n",
    "import sys\n",
    "\n",
    "sys.path.append(\"..\")\n",
    "from diagnose import (\n",
    "    prepare_waterbird,\n",
    "    prepare_fairface,\n",
    "    prepare_dsprites,\n",
    "    compute_dataset_correlation,\n",
    ")"
   ]
  },
  {
   "cell_type": "markdown",
   "metadata": {},
   "source": [
    "# Waterbird"
   ]
  },
  {
   "cell_type": "code",
   "execution_count": 2,
   "metadata": {},
   "outputs": [
    {
     "name": "stdout",
     "output_type": "stream",
     "text": [
      "\n",
      "Concat:\n",
      "\n",
      "Text Acc - Image Acc Correlation:\n",
      "Spearman correlation: 0.4167 (p-value: 0.0000)\n",
      "Pearson correlation: 0.4355 (p-value: 0.0000)\n",
      "Text Prob - Image Acc Correlation:\n",
      "Spearman correlation: 0.5899 (p-value: 0.0000)\n",
      "Pearson correlation: 0.5773 (p-value: 0.0000)\n",
      "\n",
      "Prompt:\n",
      "\n",
      "Text Acc - Image Acc Correlation:\n",
      "Spearman correlation: 0.5607 (p-value: 0.0000)\n",
      "Pearson correlation: 0.5742 (p-value: 0.0000)\n",
      "Text Prob - Image Acc Correlation:\n",
      "Spearman correlation: 0.6462 (p-value: 0.0000)\n",
      "Pearson correlation: 0.6721 (p-value: 0.0000)\n",
      "\n",
      "Ensemble:\n",
      "\n",
      "Text Acc - Image Acc Correlation:\n",
      "Spearman correlation: 0.6704 (p-value: 0.0000)\n",
      "Pearson correlation: 0.6091 (p-value: 0.0000)\n",
      "Text Prob - Image Acc Correlation:\n",
      "Spearman correlation: 0.6465 (p-value: 0.0000)\n",
      "Pearson correlation: 0.6776 (p-value: 0.0000)\n",
      "\n",
      "Image Generation:\n",
      "\n",
      "Text Acc - Image Acc Correlation:\n",
      "Spearman correlation: 0.6179 (p-value: 0.0000)\n",
      "Pearson correlation: 0.5527 (p-value: 0.0000)\n",
      "Text Prob - Image Acc Correlation:\n",
      "Spearman correlation: 0.6034 (p-value: 0.0000)\n",
      "Pearson correlation: 0.5938 (p-value: 0.0000)\n"
     ]
    }
   ],
   "source": [
    "compute_dataset_correlation(\n",
    "    clip_model_name=\"ViT-B/32\",\n",
    "    linear_model_path=\"../pytorch_cache/iclrsubmission/models/waterbird_linear_model.pt\",\n",
    "    data_path=\"../../data/Waterbird/processed_attribute_dataset/attributes.jsonl\",\n",
    "    generated_data_path=\"../../data/StableDiffusionSynthesized/WaterBird/attributes.jsonl\",\n",
    "    filter_fn=lambda i, x: x[\"attributes\"][\"split\"] == \"val\",\n",
    "    label_fn=lambda x: x[\"attributes\"][\"waterbird\"],\n",
    "    prepare_fn=prepare_waterbird,\n",
    "    fields=[\"species\", \"place\"],\n",
    ")"
   ]
  },
  {
   "cell_type": "markdown",
   "metadata": {},
   "source": [
    "# Fairface"
   ]
  },
  {
   "cell_type": "code",
   "execution_count": 2,
   "metadata": {},
   "outputs": [
    {
     "name": "stdout",
     "output_type": "stream",
     "text": [
      "\n",
      "Concat:\n",
      "\n",
      "Text Acc - Image Acc Correlation:\n",
      "Spearman correlation: 0.0801 (p-value: 0.3727)\n",
      "Pearson correlation: 0.0957 (p-value: 0.2865)\n",
      "Text Prob - Image Acc Correlation:\n",
      "Spearman correlation: 0.2065 (p-value: 0.0204)\n",
      "Pearson correlation: 0.1760 (p-value: 0.0487)\n",
      "\n",
      "Prompt:\n",
      "\n",
      "Text Acc - Image Acc Correlation:\n",
      "Spearman correlation: nan (p-value: nan)\n",
      "Pearson correlation: nan (p-value: nan)\n",
      "Text Prob - Image Acc Correlation:\n",
      "Spearman correlation: 0.5669 (p-value: 0.0000)\n",
      "Pearson correlation: 0.7024 (p-value: 0.0000)\n",
      "\n",
      "Ensemble:\n",
      "\n"
     ]
    },
    {
     "name": "stderr",
     "output_type": "stream",
     "text": [
      "/afs/cs.stanford.edu/u/yuhuiz/.local/lib/python3.8/site-packages/scipy/stats/_stats_py.py:4878: ConstantInputWarning: An input array is constant; the correlation coefficient is not defined.\n",
      "  warnings.warn(stats.ConstantInputWarning(warn_msg))\n",
      "/afs/cs.stanford.edu/u/yuhuiz/.local/lib/python3.8/site-packages/scipy/stats/_stats_py.py:4424: ConstantInputWarning: An input array is constant; the correlation coefficient is not defined.\n",
      "  warnings.warn(stats.ConstantInputWarning(msg))\n"
     ]
    },
    {
     "name": "stdout",
     "output_type": "stream",
     "text": [
      "Text Acc - Image Acc Correlation:\n",
      "Spearman correlation: 0.3548 (p-value: 0.0000)\n",
      "Pearson correlation: 0.4141 (p-value: 0.0000)\n",
      "Text Prob - Image Acc Correlation:\n",
      "Spearman correlation: 0.5614 (p-value: 0.0000)\n",
      "Pearson correlation: 0.7227 (p-value: 0.0000)\n",
      "\n",
      "Image Generation:\n",
      "\n",
      "Text Acc - Image Acc Correlation:\n",
      "Spearman correlation: 0.3462 (p-value: 0.0001)\n",
      "Pearson correlation: 0.5447 (p-value: 0.0000)\n",
      "Text Prob - Image Acc Correlation:\n",
      "Spearman correlation: 0.4288 (p-value: 0.0000)\n",
      "Pearson correlation: 0.5411 (p-value: 0.0000)\n"
     ]
    }
   ],
   "source": [
    "compute_dataset_correlation(\n",
    "    clip_model_name=\"ViT-B/32\",\n",
    "    linear_model_path=\"../pytorch_cache/iclrsubmission/models/fairface_linear_model.pt\",\n",
    "    data_path=\"../../data/FairFace/processed_attribute_dataset/attributes.jsonl\",\n",
    "    generated_data_path=\"../../data/StableDiffusionSynthesized/FairFace/attributes.jsonl\",\n",
    "    filter_fn=lambda i, x: x[\"attributes\"][\"split\"] == \"val\",\n",
    "    label_fn=lambda x: int(x[\"attributes\"][\"gender\"] == \"Female\"),\n",
    "    prepare_fn=prepare_fairface,\n",
    "    fields=[\"age\", \"race\", \"gender\"],\n",
    ")"
   ]
  },
  {
   "cell_type": "markdown",
   "metadata": {},
   "source": [
    "## dSprites"
   ]
  },
  {
   "cell_type": "code",
   "execution_count": 3,
   "metadata": {},
   "outputs": [
    {
     "name": "stdout",
     "output_type": "stream",
     "text": [
      "\n",
      "Concat:\n",
      "\n",
      "Text Acc - Image Acc Correlation:\n",
      "Spearman correlation: 0.6278 (p-value: 0.0000)\n",
      "Pearson correlation: 0.6723 (p-value: 0.0000)\n",
      "Text Prob - Image Acc Correlation:\n",
      "Spearman correlation: 0.7071 (p-value: 0.0000)\n",
      "Pearson correlation: 0.7481 (p-value: 0.0000)\n",
      "\n",
      "Prompt:\n",
      "\n",
      "Text Acc - Image Acc Correlation:\n",
      "Spearman correlation: 0.7147 (p-value: 0.0000)\n",
      "Pearson correlation: 0.7198 (p-value: 0.0000)\n",
      "Text Prob - Image Acc Correlation:\n",
      "Spearman correlation: 0.6998 (p-value: 0.0000)\n",
      "Pearson correlation: 0.7595 (p-value: 0.0000)\n",
      "\n",
      "Ensemble:\n",
      "\n",
      "Text Acc - Image Acc Correlation:\n",
      "Spearman correlation: 0.6807 (p-value: 0.0000)\n",
      "Pearson correlation: 0.8897 (p-value: 0.0000)\n",
      "Text Prob - Image Acc Correlation:\n",
      "Spearman correlation: 0.7028 (p-value: 0.0000)\n",
      "Pearson correlation: 0.7918 (p-value: 0.0000)\n",
      "\n",
      "Image Generation:\n",
      "\n",
      "Text Acc - Image Acc Correlation:\n",
      "Spearman correlation: 0.3860 (p-value: 0.0201)\n",
      "Pearson correlation: 0.5381 (p-value: 0.0007)\n",
      "Text Prob - Image Acc Correlation:\n",
      "Spearman correlation: 0.4557 (p-value: 0.0052)\n",
      "Pearson correlation: 0.5309 (p-value: 0.0009)\n"
     ]
    }
   ],
   "source": [
    "train_idxs, val_idxs = json.load(\n",
    "    open(\"../pytorch_cache/iclrsubmission/models/dsprites_train_val_idxs_2class.json\")\n",
    ")\n",
    "\n",
    "compute_dataset_correlation(\n",
    "    clip_model_name=\"ViT-B/32\",\n",
    "    linear_model_path=\"../pytorch_cache/iclrsubmission/models/dsprites_linear_model_2class.pt\",\n",
    "    data_path=\"../../data/TriangleSquare/processed_attribute_dataset/attributes.jsonl\",\n",
    "    generated_data_path=\"../../data/StableDiffusionSynthesized/TriangleSquare/attributes.jsonl\",\n",
    "    filter_fn=lambda i, x: i in val_idxs,\n",
    "    label_fn=lambda x: x[\"attributes\"][\"label\"],\n",
    "    prepare_fn=prepare_dsprites,\n",
    "    fields=[\"color\", \"label\", \"concrete_scale\"],\n",
    ")"
   ]
  },
  {
   "cell_type": "code",
   "execution_count": null,
   "metadata": {},
   "outputs": [],
   "source": []
  }
 ],
 "metadata": {
  "kernelspec": {
   "display_name": "Python 3.8.12 ('dalle')",
   "language": "python",
   "name": "python3"
  },
  "language_info": {
   "codemirror_mode": {
    "name": "ipython",
    "version": 3
   },
   "file_extension": ".py",
   "mimetype": "text/x-python",
   "name": "python",
   "nbconvert_exporter": "python",
   "pygments_lexer": "ipython3",
   "version": "3.8.12"
  },
  "orig_nbformat": 4,
  "vscode": {
   "interpreter": {
    "hash": "bf49421d02fb18daac2fe024769d7389ca36bccb970e26253e571efb021ca22f"
   }
  }
 },
 "nbformat": 4,
 "nbformat_minor": 2
}
