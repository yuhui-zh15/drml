{
 "cells": [
  {
   "cell_type": "code",
   "execution_count": 1,
   "metadata": {},
   "outputs": [],
   "source": [
    "import json\n",
    "import sys\n",
    "\n",
    "sys.path.append(\"..\")\n",
    "from diagnose import (\n",
    "    prepare_waterbird,\n",
    "    prepare_fairface,\n",
    "    prepare_dsprites,\n",
    "    discover_slices,\n",
    ")"
   ]
  },
  {
   "cell_type": "markdown",
   "metadata": {},
   "source": [
    "# Waterbird"
   ]
  },
  {
   "cell_type": "code",
   "execution_count": 2,
   "metadata": {},
   "outputs": [
    {
     "name": "stdout",
     "output_type": "stream",
     "text": [
      "Text Acc - Image Acc Correlation:\n",
      "Spearman correlation: 1.0000 (p-value: 0.0000)\n",
      "Pearson correlation: 0.9799 (p-value: 0.0201)\n",
      "Text Prob - Image Acc Correlation:\n",
      "Spearman correlation: 1.0000 (p-value: 0.0000)\n",
      "Pearson correlation: 0.9953 (p-value: 0.0047)\n"
     ]
    },
    {
     "data": {
      "text/plain": [
       "[((('waterbird', 1), ('waterplace', 0)),\n",
       "  (0.3233082706766917, 0.2403532608695652, 0.32583714)),\n",
       " ((('waterbird', 0), ('waterplace', 1)),\n",
       "  (0.6523605150214592, 0.7508116883116883, 0.7029176)),\n",
       " ((('waterbird', 1), ('waterplace', 1)),\n",
       "  (0.9548872180451128, 0.9490489130434783, 0.9306395)),\n",
       " ((('waterbird', 0), ('waterplace', 0)), (0.9978586723768736, 1.0, 0.9957342))]"
      ]
     },
     "execution_count": 2,
     "metadata": {},
     "output_type": "execute_result"
    }
   ],
   "source": [
    "discover_slices(\n",
    "    clip_model_name=\"ViT-B/32\",\n",
    "    linear_model_path=\"../pytorch_cache/iclrsubmission/models/waterbird_linear_model.pt\",\n",
    "    data_path=\"../../data/Waterbird/processed_attribute_dataset/attributes.jsonl\",\n",
    "    filter_fn=lambda i, x: x[\"attributes\"][\"split\"] == \"val\",\n",
    "    label_fn=lambda x: x[\"attributes\"][\"waterbird\"],\n",
    "    prepare_fn=prepare_waterbird,\n",
    "    fields=[\"waterbird\", \"waterplace\"],\n",
    ")"
   ]
  },
  {
   "cell_type": "markdown",
   "metadata": {},
   "source": [
    "# FairFace"
   ]
  },
  {
   "cell_type": "code",
   "execution_count": 4,
   "metadata": {},
   "outputs": [
    {
     "name": "stdout",
     "output_type": "stream",
     "text": [
      "Text Acc - Image Acc Correlation:\n",
      "Spearman correlation: 0.5045 (p-value: 0.2482)\n",
      "Pearson correlation: 0.2396 (p-value: 0.6048)\n",
      "Text Prob - Image Acc Correlation:\n",
      "Spearman correlation: 0.8214 (p-value: 0.0234)\n",
      "Pearson correlation: 0.9091 (p-value: 0.0046)\n"
     ]
    },
    {
     "data": {
      "text/plain": [
       "[((('race', 'Black'),), (0.8997429305912596, 0.9958333333333333, 0.9133974)),\n",
       " ((('race', 'Southeast Asian'),),\n",
       "  (0.9342756183745583, 0.9972222222222222, 0.9332894)),\n",
       " ((('race', 'East Asian'),),\n",
       "  (0.9419354838709677, 0.9916666666666667, 0.92771006)),\n",
       " ((('race', 'Indian'),), (0.9445910290237467, 0.99375, 0.9267614)),\n",
       " ((('race', 'Latino_Hispanic'),),\n",
       "  (0.9537892791127541, 0.9979166666666667, 0.9463455)),\n",
       " ((('race', 'White'),), (0.9597122302158273, 0.9965277777777778, 0.9427252)),\n",
       " ((('race', 'Middle Eastern'),),\n",
       "  (0.967741935483871, 0.9979166666666667, 0.95262563))]"
      ]
     },
     "execution_count": 4,
     "metadata": {},
     "output_type": "execute_result"
    }
   ],
   "source": [
    "discover_slices(\n",
    "    clip_model_name=\"ViT-B/32\",\n",
    "    linear_model_path=\"../pytorch_cache/iclrsubmission/models/fairface_linear_model.pt\",\n",
    "    data_path=\"../../data/FairFace/processed_attribute_dataset/attributes.jsonl\",\n",
    "    filter_fn=lambda i, x: x[\"attributes\"][\"split\"] == \"val\",\n",
    "    label_fn=lambda x: int(x[\"attributes\"][\"gender\"] == \"Female\"),\n",
    "    prepare_fn=prepare_fairface,\n",
    "    fields=[\"race\"],\n",
    ")"
   ]
  },
  {
   "cell_type": "markdown",
   "metadata": {},
   "source": [
    "# dSprites"
   ]
  },
  {
   "cell_type": "code",
   "execution_count": 5,
   "metadata": {},
   "outputs": [
    {
     "name": "stdout",
     "output_type": "stream",
     "text": [
      "Text Acc - Image Acc Correlation:\n",
      "Spearman correlation: 0.6667 (p-value: 0.0179)\n",
      "Pearson correlation: 0.9166 (p-value: 0.0000)\n",
      "Text Prob - Image Acc Correlation:\n",
      "Spearman correlation: 0.6961 (p-value: 0.0119)\n",
      "Pearson correlation: 0.8079 (p-value: 0.0015)\n"
     ]
    },
    {
     "data": {
      "text/plain": [
       "[((('color', 'orange'), ('label', 0)),\n",
       "  (0.033734939759036145, 0.020833333333333332, 0.29899698)),\n",
       " ((('color', 'green'), ('label', 1)), (0.06165228113440197, 0.0, 0.16407745)),\n",
       " ((('color', 'blue'), ('label', 1)),\n",
       "  (0.6575342465753424, 0.7791666666666667, 0.56714785)),\n",
       " ((('color', 'cyan'), ('label', 0)), (0.9761904761904762, 1.0, 0.83357334)),\n",
       " ((('color', 'pink'), ('label', 1)),\n",
       "  (0.9861431870669746, 0.5541666666666667, 0.5043879)),\n",
       " ((('color', 'red'), ('label', 0)),\n",
       "  (0.9939759036144579, 0.9833333333333333, 0.74450433)),\n",
       " ((('color', 'red'), ('label', 1)), (0.9954337899543378, 0.775, 0.5650696)),\n",
       " ((('color', 'blue'), ('label', 0)), (1.0, 1.0, 0.8061522)),\n",
       " ((('color', 'cyan'), ('label', 1)), (1.0, 0.775, 0.5658888)),\n",
       " ((('color', 'green'), ('label', 0)), (1.0, 1.0, 0.97125906)),\n",
       " ((('color', 'orange'), ('label', 1)), (1.0, 1.0, 0.93163455)),\n",
       " ((('color', 'pink'), ('label', 0)), (1.0, 1.0, 0.86252326))]"
      ]
     },
     "execution_count": 5,
     "metadata": {},
     "output_type": "execute_result"
    }
   ],
   "source": [
    "train_idxs, val_idxs = json.load(\n",
    "    open(\"../pytorch_cache/iclrsubmission/models/dsprites_train_val_idxs_2class.json\")\n",
    ")\n",
    "\n",
    "discover_slices(\n",
    "    clip_model_name=\"ViT-B/32\",\n",
    "    linear_model_path=\"../pytorch_cache/iclrsubmission/models/dsprites_linear_model_2class.pt\",\n",
    "    data_path=\"../../data/TriangleSquare/processed_attribute_dataset/attributes.jsonl\",\n",
    "    filter_fn=lambda i, x: i in val_idxs,\n",
    "    label_fn=lambda x: x[\"attributes\"][\"label\"],\n",
    "    prepare_fn=prepare_dsprites,\n",
    "    fields=[\"color\", \"label\"],\n",
    ")"
   ]
  },
  {
   "cell_type": "code",
   "execution_count": null,
   "metadata": {},
   "outputs": [],
   "source": []
  }
 ],
 "metadata": {
  "kernelspec": {
   "display_name": "Python 3.8.12 ('dalle')",
   "language": "python",
   "name": "python3"
  },
  "language_info": {
   "codemirror_mode": {
    "name": "ipython",
    "version": 3
   },
   "file_extension": ".py",
   "mimetype": "text/x-python",
   "name": "python",
   "nbconvert_exporter": "python",
   "pygments_lexer": "ipython3",
   "version": "3.8.12"
  },
  "orig_nbformat": 4,
  "vscode": {
   "interpreter": {
    "hash": "bf49421d02fb18daac2fe024769d7389ca36bccb970e26253e571efb021ca22f"
   }
  }
 },
 "nbformat": 4,
 "nbformat_minor": 2
}
